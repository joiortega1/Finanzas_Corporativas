{
 "cells": [
  {
   "cell_type": "code",
   "execution_count": 55,
   "metadata": {},
   "outputs": [],
   "source": [
    "import numpy as np\n",
    "import pandas as pd\n",
    "import matplotlib as mpl\n",
    "import scipy\n",
    "import importlib\n",
    "import matplotlib.pyplot as plt\n",
    "from scipy.stats import skew, kurtosis, chi2, linregress\n",
    "from scipy.optimize import minimize\n",
    "from numpy import linalg as LA\n",
    "pd.set_option('precision',4)"
   ]
  },
  {
   "cell_type": "code",
   "execution_count": 56,
   "metadata": {},
   "outputs": [],
   "source": [
    "def load_timeseries(ric):\n",
    "    path = 'Datos/'+ric+'.'+'csv'\n",
    "    table_raw = pd.read_csv(path)\n",
    "    t = pd.DataFrame()\n",
    "    t['date'] = pd.to_datetime(table_raw['Date'], dayfirst=True)\n",
    "    t['close'] = table_raw['Close']\n",
    "    t.sort_values(by='date', ascending=True)\n",
    "    t['close_previous'] = t['close'].shift(1)\n",
    "    # rendimientos\n",
    "    t['return_close'] = t['close']/t['close_previous'] - 1\n",
    "    t = t.dropna()\n",
    "    t = t.reset_index(drop=True)\n",
    "    # entrada para el test de Jarque-Bera\n",
    "    x = t['return_close'].values # rendimientos como arrays\n",
    "    x_str = 'Rendimientos reales' + ric # label e.g. ric\n",
    "    return x, x_str, t\n",
    "\n",
    "\n",
    "def plot_timeseries_price(t, ric):\n",
    "    plt.figure()\n",
    "    plt.plot(t['date'],t['close'])\n",
    "    plt.title('Serie de tiempo de los precios' + ric)\n",
    "    plt.xlabel('Tiempo')\n",
    "    plt.ylabel('Precio')\n",
    "    plt.show()\n",
    "    \n",
    "    \n",
    "def plot_histogram(x, x_str, plot_str, bins=100):\n",
    "    # plot histograma\n",
    "    plt.figure()\n",
    "    plt.hist(x,bins)\n",
    "    plt.title('Histograma ' + x_str)\n",
    "    plt.xlabel(plot_str)\n",
    "    plt.show()\n",
    "    \n",
    "\n",
    "def synchronise_timeseries(benchmark, ric):\n",
    "    x1, str1, t1 = load_timeseries(benchmark)\n",
    "    x2, str2, t2 = load_timeseries(ric)\n",
    "    # sincronizando tiempos\n",
    "    timestamp1 = list(t1['date'].values)\n",
    "    timestamp2 = list(t2['date'].values)\n",
    "    # hacemos la intersección de los tiempos\n",
    "    timestamps = list(set(timestamp1) & set(timestamp2))\n",
    "    # sincronizando serie de tiempo para x1 o ric\n",
    "    t1_sync = t1[t1['date'].isin(timestamps)]\n",
    "    t1_sync.sort_values(by='date', ascending=True)\n",
    "    t1_sync = t1_sync.reset_index(drop=True)\n",
    "    # sincronizando serie de tiempo para x2 o benchmark\n",
    "    t2_sync = t2[t2['date'].isin(timestamps)]\n",
    "    t2_sync.sort_values(by='date', ascending=True)\n",
    "    t2_sync = t2_sync.reset_index(drop=True)\n",
    "    # rendimientos del ric y benchmark\n",
    "    t = pd.DataFrame()\n",
    "    t['date'] = t1_sync['date']\n",
    "    t['price_1'] = t1_sync['close'] # precio benchmark\n",
    "    t['price_2'] = t2_sync['close'] # precio ric\n",
    "    t['return_1'] = t1_sync['return_close'] # rendimiento benchmark\n",
    "    t['return_2'] = t2_sync['return_close'] # rendimiento ric\n",
    "    # calculamos los vectores de rendimientos\n",
    "    returns_benchmark = t['return_1'].values # variable x\n",
    "    returns_ric = t['return_2'].values # variable y\n",
    "    return returns_benchmark, returns_ric, t # x, y, t\n",
    "\n",
    "\n",
    "def compute_beta(benchmark, ric, bool_print=False):\n",
    "    # calculamos la beta del modelo CAPM\n",
    "    capm = capm_manager(benchmark, ric)\n",
    "    capm.load_timeseries()\n",
    "    capm.compute()\n",
    "    if bool_print:\n",
    "        print('------')\n",
    "        print(capm)\n",
    "    beta = capm.beta\n",
    "    return beta\n",
    "\n",
    "def compute_portfolio_min_variance(covariance_matrix, notional):\n",
    "    eigenvalues, eigenvectors = LA.eigh(covariance_matrix)\n",
    "    variance_explained = eigenvalues[0] / sum(abs(eigenvalues))\n",
    "    eigenvector = eigenvectors[:,0]\n",
    "    if max(eigenvector) < 0.0:\n",
    "        eigenvector = - eigenvector\n",
    "    port_min_variance = notional * eigenvector / sum(abs(eigenvector))\n",
    "    return port_min_variance, variance_explained\n",
    "\n",
    "\n",
    "def compute_portfolio_pca(covariance_matrix, notional):\n",
    "    eigenvalues, eigenvectors = LA.eigh(covariance_matrix)\n",
    "    variance_explained = eigenvalues[-1] / sum(abs(eigenvalues))\n",
    "    eigenvector = eigenvectors[:,-1]\n",
    "    if max(eigenvector) < 0.0:\n",
    "        eigenvector = - eigenvector\n",
    "    port_pca = notional * eigenvector / sum(abs(eigenvector))\n",
    "    return port_pca, variance_explained\n",
    "\n",
    "\n",
    "def compute_portfolio_equi_weight(size, notional):\n",
    "    port_equi = (notional / size) * np.ones([size])\n",
    "    return port_equi\n",
    "\n",
    "\n",
    "def compute_portfolio_long_only(size, notional, covariance_matrix):\n",
    "    # inicializamos la optimización\n",
    "    x = np.zeros([size,1])\n",
    "    # inicializamos las restricciones\n",
    "    cons = [{\"type\": \"eq\", \"fun\": lambda x: sum(abs(x)) - 1}]\n",
    "    bnds = [(0, None) for i in range(size)]\n",
    "    # calculamos la optimización\n",
    "    res = minimize(compute_portfolio_variance, x, args=(covariance_matrix), constraints=cons, bounds=bnds)\n",
    "    port_long_only = notional * res.x\n",
    "    return port_long_only\n",
    "\n",
    "\n",
    "def compute_portfolio_markowitz(size, notional, covariance_matrix, returns, target_return):\n",
    "    # inicializamos la optimización\n",
    "    x = np.zeros([size,1])\n",
    "    # inicializamos las restricciones\n",
    "    cons = [{\"type\": \"eq\", \"fun\": lambda x: np.transpose(returns).dot(x).item() - target_return},\\\n",
    "            {\"type\": \"eq\", \"fun\": lambda x: sum(abs(x)) - 1}]\n",
    "    bnds = [(0, None) for i in range(size)]\n",
    "    # calculamos la optimización\n",
    "    res = minimize(compute_portfolio_variance, x, args=(covariance_matrix), constraints=cons, bounds=bnds)\n",
    "    weights = notional * res.x\n",
    "    return weights\n",
    "\n",
    "\n",
    "def compute_portfolio_variance(x, covariance_matrix):\n",
    "    variance = np.dot(x.T, np.dot(covariance_matrix, x)).item()\n",
    "    return variance\n",
    "\n",
    "\n",
    "def compute_portfolio_volatility(covariance_matrix, weights):\n",
    "    notional = sum(abs(weights))\n",
    "    if notional <= 0.0:\n",
    "        return 0.0\n",
    "    weights = weights / notional # pesos unitarios en la norma L1\n",
    "    variance = np.dot(weights.T, np.dot(covariance_matrix, weights)).item()\n",
    "    if variance <= 0.0:\n",
    "        return 0.0\n",
    "    volatility = np.sqrt(variance)\n",
    "    return volatility"
   ]
  },
  {
   "cell_type": "markdown",
   "metadata": {},
   "source": [
    "# TEST JARQUE-BERA"
   ]
  },
  {
   "cell_type": "code",
   "execution_count": 57,
   "metadata": {},
   "outputs": [],
   "source": [
    "class jarque_bera_test():\n",
    "    \n",
    "    def __init__(self, ric):\n",
    "        self.ric = ric\n",
    "        self.returns = []\n",
    "        self.dataframe = pd.DataFrame()\n",
    "        self.size = 0\n",
    "        self.str_name = ''\n",
    "        self.mean = 0.0\n",
    "        self.std = 0.0\n",
    "        self.skew = 0.0\n",
    "        self.kurt = 0.0\n",
    "        self.median = 0.0\n",
    "        self.var_95 = 0.0\n",
    "        self.cvar_95 = 0.0\n",
    "        self.sharpe = 0.0\n",
    "        self.jarque_bera = 0.0\n",
    "        self.p_value = 0.0\n",
    "        self.is_normal = 0.0\n",
    "        \n",
    "        \n",
    "    def __str__(self):\n",
    "        str_self = self.str_name + ' | Tamaño ' + str(self.size) + '\\n' + self.plot_str()\n",
    "        return str_self\n",
    "\n",
    "\n",
    "    def load_timeseries(self):\n",
    "        self.returns, self.str_name, self.dataframe = load_timeseries(self.ric)\n",
    "        self.size = len(self.returns)\n",
    "\n",
    "    def compute(self):\n",
    "        self.mean = np.mean(self.returns)\n",
    "        self.std = np.std(self.returns) # volatilidad\n",
    "        self.skew = skew(self.returns)\n",
    "        self.kurt = kurtosis(self.returns) # curtosis en exceso \n",
    "        # rendimientos entre volatilidad\n",
    "        ########### tal vez se le debería de restar la rf, hay que checar eso\n",
    "        self.sharpe = self.mean / (self.std * np.sqrt(252)) # anualizado (por eso lo dividimos entre la raíz de 252)\n",
    "        self.median = np.median(self.returns)\n",
    "        self.var_95 = np.percentile(self.returns,5)\n",
    "        self.cvar_95 = np.mean(self.returns[self.returns <= self.var_95])\n",
    "        # como es curtosis en exceso, no le restamos un 3 a la curtosis \n",
    "        self.jarque_bera = self.size/6*(self.skew**2 + 1/4*self.kurt**2)\n",
    "        # los grados de libertad (df) es un dos por los resultadis del test de jarque-bera \n",
    "        self.p_value = 1 - chi2.cdf(self.jarque_bera, df=2)\n",
    "        self.is_normal = (self.p_value > 0.05) # equivalentemente jb < 6\n",
    "\n",
    "\n",
    "    def plot_str(self):\n",
    "        nb_decimals = 4\n",
    "        plot_str = 'Media ' + str(np.round(self.mean,nb_decimals))\\\n",
    "            + ' | Mediana ' + str(np.round(self.median,nb_decimals))\\\n",
    "            + ' | Desviación estándar ' + str(np.round(self.std,nb_decimals))\\\n",
    "            + ' | Coeficiente de asimetría ' + str(np.round(self.skew,nb_decimals)) + '\\n'\\\n",
    "            + 'Curtosis ' + str(np.round(self.kurt,nb_decimals))\\\n",
    "            + ' | Sharpe ratio ' + str(np.round(self.sharpe,nb_decimals))\\\n",
    "            + ' | VaR 95% ' + str(np.round(self.var_95,nb_decimals))\\\n",
    "            + ' | CVaR 95% ' + str(np.round(self.cvar_95,nb_decimals)) + '\\n'\\\n",
    "            + 'Test de Jarque-Bera ' + str(np.round(self.jarque_bera,nb_decimals))\\\n",
    "            + ' | p-value ' + str(np.round(self.p_value,nb_decimals))\\\n",
    "            + ' | ¿Es una distribución normal? ' + str(self.is_normal)\n",
    "        return plot_str\n",
    "    \n",
    "    \n",
    "    def plot_timeseries(self):\n",
    "        plot_timeseries_price(self.dataframe, self.ric)\n",
    "        \n",
    "    \n",
    "    def plot_histogram(self):\n",
    "        plot_histogram(self.returns, self.str_name, self.plot_str())\n",
    "    "
   ]
  },
  {
   "cell_type": "markdown",
   "metadata": {},
   "source": [
    "# CAPM"
   ]
  },
  {
   "cell_type": "code",
   "execution_count": 105,
   "metadata": {},
   "outputs": [],
   "source": [
    "class capm_manager():\n",
    "    \n",
    "    def __init__(self, benchmark, ric):\n",
    "        self.ric = ric\n",
    "        self.benchmark = benchmark\n",
    "        self.returns_benchmark = [] # x\n",
    "        self.returns_ric = [] # y\n",
    "        self.dataframe = pd.DataFrame()\n",
    "        self.alpha = None\n",
    "        self.beta = None\n",
    "        self.p_value = None\n",
    "        self.null_hypothesis = False\n",
    "        self.r_value = None\n",
    "        self.r_squared = None\n",
    "        self.correlation = None\n",
    "        self.predictor_linreg = [] # y = alpha + beta*x\n",
    "        \n",
    "        \n",
    "    def __str__(self):\n",
    "        str_self = 'Regresión Lineal | ric ' + self.ric\\\n",
    "            + ' | benchmark ' + self.benchmark + '\\n'\\\n",
    "            + 'alpha (intercept) ' + str(self.alpha)\\\n",
    "            + ' | beta (slope) ' + str(self.beta) + '\\n'\\\n",
    "            + 'p-value ' + str(self.p_value)\\\n",
    "            + ' | Hipótesis nula  ' + str(self.null_hypothesis) + '\\n'\\\n",
    "            + 'r-value (correlación) ' + str(self.r_value)\\\n",
    "            + ' | r-squared ' + str(self.r_squared)\n",
    "        return str_self\n",
    "        \n",
    "    \n",
    "    def load_timeseries(self):\n",
    "        self.returns_benchmark, self.returns_ric, self.dataframe = synchronise_timeseries(self.benchmark, self.ric)\n",
    "    \n",
    "    \n",
    "    def compute(self):\n",
    "        # linear regression del ric con respecto al benchmark\n",
    "        nb_decimals = 4\n",
    "        slope, intercept, r_value, p_value, std_err = linregress(self.returns_benchmark,self.returns_ric)\n",
    "        self.beta = np.round(slope, nb_decimals)\n",
    "        self.alpha = np.round(intercept, nb_decimals)\n",
    "        self.p_value = np.round(p_value, nb_decimals) \n",
    "        self.null_hypothesis = p_value > 0.05 # p_value < 0.05 --> rechazamos la hipotesis nula \n",
    "        self.r_value = np.round(r_value, nb_decimals) #  coeficiente de correlacion\n",
    "        self.r_squared = np.round(r_value**2, nb_decimals) # porcentaje de varianza de y explicada por x\n",
    "        self.correlation = self.r_value\n",
    "        self.predictor_linreg = self.alpha + self.beta*self.returns_benchmark\n",
    "        \n",
    "        \n",
    "    def scatterplot(self):\n",
    "        # scatterplot de rendimientos\n",
    "        str_title = 'Diagrama de dispersión de rendimientos' + '\\n' #+ self.__str__()\n",
    "        plt.figure()\n",
    "        plt.title(str_title)\n",
    "        plt.scatter(self.returns_benchmark,self.returns_ric)\n",
    "        plt.plot(self.returns_benchmark, self.predictor_linreg, color='green')\n",
    "        plt.ylabel(self.ric)\n",
    "        plt.xlabel(self.benchmark)\n",
    "        #plt.grid()\n",
    "        plt.show()\n",
    "        \n",
    "        \n",
    "    def plot_normalised(self):\n",
    "        # plot 2 series de tiempo normalizadas a 100\n",
    "        timestamps = self.dataframe['date']\n",
    "        price_benchmark = self.dataframe['price_1']\n",
    "        price_ric = self.dataframe['price_2'] \n",
    "        plt.figure(figsize=(12,5))\n",
    "        plt.title('Serie de tiempo de precios | normalizado a 100')\n",
    "        plt.xlabel('Tiempo')\n",
    "        plt.ylabel('Precios normalizado')\n",
    "        price_ric = 100 * price_ric / price_ric[0]\n",
    "        price_benchmark = 100 * price_benchmark / price_benchmark[0]\n",
    "        plt.plot(timestamps, price_ric, color='blue', label=self.ric)\n",
    "        plt.plot(timestamps, price_benchmark, color='red', label=self.benchmark)\n",
    "        plt.legend(loc=0)\n",
    "        plt.grid()\n",
    "        plt.show()\n",
    "        \n",
    "        \n",
    "    def plot_dual_axes(self):\n",
    "        plt.figure(figsize=(12,5))\n",
    "        plt.title('Serie de tiempo de precios')\n",
    "        plt.xlabel('Tiempo')\n",
    "        plt.ylabel('Precios')\n",
    "        ax = plt.gca()\n",
    "        ax1 = self.dataframe.plot(kind='line', x='date', y='price_1', ax=ax, grid=True,\n",
    "                                  color='blue', label=self.benchmark)\n",
    "        ax2 = self.dataframe.plot(kind='line', x='date', y='price_2', ax=ax, grid=True,\n",
    "                                  color='red', secondary_y=True, label=self.ric)\n",
    "        ax1.legend(loc=2)\n",
    "        ax2.legend(loc=1)\n",
    "        plt.show()\n",
    "        \n",
    "        "
   ]
  },
  {
   "cell_type": "markdown",
   "metadata": {},
   "source": [
    "# Coberturas de Portafolios"
   ]
  },
  {
   "cell_type": "code",
   "execution_count": 59,
   "metadata": {},
   "outputs": [],
   "source": [
    "class portfolio_manager:\n",
    "    \n",
    "    def __init__(self, rics):\n",
    "        self.rics = rics\n",
    "        self.nb_decimals = 3\n",
    "        self.covariance_matrix = [] # annualised\n",
    "        self.correlation_matrix = [] # annualised\n",
    "        self.returns = [] # annualised\n",
    "        self.volatilities = [] # annualised\n",
    "        \n",
    "        \n",
    "    def compute_covariance_matrix(self, bool_print=False):\n",
    "        # calculamos la matriz de varianza-covarianza por covarianzas por pares\n",
    "        scale = 252 # anualizado\n",
    "        size = len(self.rics)\n",
    "        mtx_covar = np.zeros([size,size])\n",
    "        mtx_correl = np.zeros([size,size])\n",
    "        vec_returns = np.zeros([size,1])\n",
    "        vec_volatilities = np.zeros([size,1])\n",
    "        returns = []\n",
    "        for i in range(size):\n",
    "            ric1 = self.rics[i]\n",
    "            temp_ret = []\n",
    "            for j in range(i+1):\n",
    "                ric2 = self.rics[j]\n",
    "                ret1, ret2, t = synchronise_timeseries(ric1, ric2)\n",
    "                returns = [ret1, ret2]\n",
    "                # covarianzas\n",
    "                temp_mtx = np.cov(returns)\n",
    "                temp_covar = scale*temp_mtx[0][1]\n",
    "                temp_covar = np.round(temp_covar,self.nb_decimals)\n",
    "                mtx_covar[i][j] = temp_covar\n",
    "                mtx_covar[j][i] = temp_covar\n",
    "                # correlaciones\n",
    "                temp_mtx = np.corrcoef(returns)\n",
    "                temp_correl = temp_mtx[0][1]\n",
    "                temp_correl = np.round(temp_correl,self.nb_decimals)\n",
    "                mtx_correl[i][j] = temp_correl\n",
    "                mtx_correl[j][i] = temp_correl\n",
    "                if j == 0:\n",
    "                    temp_ret = ret1\n",
    "            # rendimientos\n",
    "            temp_mean = np.round(scale*np.mean(temp_ret), self.nb_decimals)\n",
    "            vec_returns[i] = temp_mean\n",
    "            # volatilidades\n",
    "            temp_volatility = np.round(np.sqrt(scale)*np.std(temp_ret), self.nb_decimals)\n",
    "            vec_volatilities[i] = temp_volatility\n",
    "            \n",
    "        self.covariance_matrix = mtx_covar\n",
    "        self.correlation_matrix = mtx_correl\n",
    "        self.returns = vec_returns\n",
    "        self.volatilities = vec_volatilities\n",
    "        \n",
    "        if bool_print:\n",
    "            print('-----')\n",
    "            print('Detalles del Portfolio :')\n",
    "            print('Securities:')\n",
    "            print(self.rics)\n",
    "            print('Rendimientos (anualizados):')\n",
    "            print(self.returns)\n",
    "            print('Volatilidades (anualizadas):')\n",
    "            print(self.volatilities)\n",
    "            print('Matriz de Varianzas-Covarianzas (anualizada):')\n",
    "            print(self.covariance_matrix)\n",
    "            print('Matriz de Correlaciones:')\n",
    "            print(self.correlation_matrix)\n",
    "            \n",
    "            \n",
    "    def compute_portfolio(self, portfolio_type, notional, target_return=None):\n",
    "        \n",
    "        size = len(self.rics)\n",
    "        port_item = portfolio_item(self.rics, notional)\n",
    "        \n",
    "        if portfolio_type == 'Varianza-Min':\n",
    "            port_min_variance, variance_explained = compute_portfolio_min_variance(self.covariance_matrix, notional)\n",
    "            port_item.type = portfolio_type\n",
    "            port_item.weights = port_min_variance\n",
    "            port_item.variance_explained = variance_explained\n",
    "            \n",
    "        elif portfolio_type == 'PCA':\n",
    "            port_pca, variance_explained = compute_portfolio_pca(self.covariance_matrix, notional)\n",
    "            port_item.type = 'PCA'\n",
    "            port_item.weights = port_pca\n",
    "            port_item.variance_explained = variance_explained\n",
    "            \n",
    "        elif portfolio_type == 'Long-Only':\n",
    "            port_long_only = compute_portfolio_long_only(size, notional, self.covariance_matrix)\n",
    "            port_item.type = 'Long-Only'\n",
    "            port_item.weights = port_long_only\n",
    "            \n",
    "        elif portfolio_type == 'Markowitz':\n",
    "            if target_return == None:\n",
    "                target_return = np.mean(self.returns) #analizado\n",
    "            port_markowitz = compute_portfolio_markowitz(size, notional, self.covariance_matrix,self.returns, target_return)\n",
    "            port_item.type = 'Markowitz | Rendimiento objetivo ' + str(target_return) \n",
    "            port_item.weights = port_markowitz\n",
    "            port_item.target_return = target_return\n",
    "            \n",
    "        else:\n",
    "            size = len(self.rics)\n",
    "            port_equi = compute_portfolio_equi_weight(size, notional)\n",
    "            port_item.type = 'Equi-Ponderado'\n",
    "            port_item.weights = port_equi\n",
    "        \n",
    "        port_item.delta = sum(port_item.weights)\n",
    "        port_item.pnl_annual = np.dot(port_item.weights.T,self.returns).item()\n",
    "        port_item.return_annual = port_item.pnl_annual / notional\n",
    "        port_item.volatility_annual = compute_portfolio_volatility(self.covariance_matrix, port_item.weights)\n",
    "        if port_item.volatility_annual > 0.0:\n",
    "            port_item.sharpe_annual =  port_item.return_annual / port_item.volatility_annual\n",
    "            \n",
    "        return port_item\n",
    "            \n",
    "            \n",
    "class portfolio_item():\n",
    "    \n",
    "    def __init__(self, rics, notional):\n",
    "        self.rics = rics\n",
    "        self.notional = notional\n",
    "        self.type = ''\n",
    "        self.weights = []\n",
    "        self.delta = 0.0\n",
    "        self.pnl_annual = 0.0\n",
    "        self.return_annual = 0.0\n",
    "        self.volatility_annual = 0.0\n",
    "        self.sharpe_annual = 0.0\n",
    "        self.variance_explained = None\n",
    "        self.target_return = None\n",
    "\n",
    "\n",
    "    def summary(self):\n",
    "        print('-----')\n",
    "        print('Tipo de Portafolio: ' + self.type)\n",
    "        print('Rics:')\n",
    "        print(self.rics)\n",
    "        print('Pesos:')\n",
    "        print(self.weights)\n",
    "        if not self.variance_explained == None:\n",
    "            print('Varianza explicada: ' + str(self.variance_explained))\n",
    "        print('Notional (mnUSD): ' + str(self.notional))\n",
    "        print('Delta (mnUSD): ' + str(self.delta))\n",
    "        print('PnL anual (mnUSD): ' + str(self.pnl_annual))\n",
    "        print('Rendimiento anual (mnUSD): ' + str(self.return_annual))\n",
    "        if not self.target_return == None:\n",
    "            print('Rendimiento objetivo: ' + str(self.target_return))\n",
    "        print('Volatilidad anual (mnUSD): ' + str(self.volatility_annual))\n",
    "        print('Sharpe ratio anual: ' + str(self.sharpe_annual))"
   ]
  },
  {
   "cell_type": "markdown",
   "metadata": {},
   "source": [
    "### Ejemplo de Test de Jarque Bera"
   ]
  },
  {
   "cell_type": "code",
   "execution_count": 71,
   "metadata": {},
   "outputs": [
    {
     "data": {
      "image/png": "[encoded data removed]",
      "text/plain": [
       "<Figure size 432x288 with 1 Axes>"
      ]
     },
     "metadata": {
      "needs_background": "light"
     },
     "output_type": "display_data"
    },
    {
     "name": "stdout",
     "output_type": "stream",
     "text": [
      "Rendimientos reales^S&P500 | Tamaño 1257\n",
      "Media 0.0004 | Mediana 0.0006 | Desviación estándar 0.0122 | Coeficiente de asimetría -0.6642\n",
      "Curtosis 19.8597 | Sharpe ratio 0.002 | VaR 95% -0.0177 | CVaR 95% -0.031\n",
      "Test de Jarque-Bera 20749.5073 | p-value 0.0 | ¿Es una distribución normal? False\n",
      "-----\n"
     ]
    }
   ],
   "source": [
    "# calculamos las metricas de riesgo para rendimientos reales\n",
    "ric = '^S&P500' # SAN.MC DBK.DE ^IXIC MXN=X ^STOXX ^STOXX50E ^FCHI ^GDAXI ^S&P500 ^VIX\n",
    "jb = jarque_bera_test(ric)\n",
    "jb.load_timeseries()\n",
    "jb.compute()\n",
    "# jb.plot_timeseries()\n",
    "jb.plot_histogram()\n",
    "print(jb)\n",
    "print('-----')"
   ]
  },
  {
   "cell_type": "code",
   "execution_count": 65,
   "metadata": {},
   "outputs": [
    {
     "data": {
      "text/plain": [
       "(array([-0.00655646, -0.00770048, -0.02818641, ...,  0.02505855,\n",
       "        -0.03061458,  0.04030167]),\n",
       " 'Rendimientos realesSAN.MC',\n",
       "            date   close  close_previous  return_close\n",
       " 0    2015-07-02  6.2594          6.3007       -0.0066\n",
       " 1    2015-07-03  6.2111          6.2594       -0.0077\n",
       " 2    2015-07-06  6.0361          6.2111       -0.0282\n",
       " 3    2015-07-07  5.8994          6.0361       -0.0226\n",
       " 4    2015-07-08  5.9318          5.8994        0.0055\n",
       " ...         ...     ...             ...           ...\n",
       " 1273 2020-06-23  2.2345          2.1295        0.0493\n",
       " 1274 2020-06-24  2.1350          2.2345       -0.0445\n",
       " 1275 2020-06-25  2.1885          2.1350        0.0251\n",
       " 1276 2020-06-26  2.1215          2.1885       -0.0306\n",
       " 1277 2020-06-29  2.2070          2.1215        0.0403\n",
       " \n",
       " [1278 rows x 4 columns])"
      ]
     },
     "execution_count": 65,
     "metadata": {},
     "output_type": "execute_result"
    }
   ],
   "source": [
    "load_timeseries('SAN.MC')"
   ]
  },
  {
   "cell_type": "code",
   "execution_count": 67,
   "metadata": {},
   "outputs": [
    {
     "data": {
      "text/plain": [
       "(array([-0.00944719, -0.00620515, -0.02224445, ...,  0.00713046,\n",
       "        -0.00457919,  0.00869183]),\n",
       " 'Rendimientos reales^STOXX50E',\n",
       "            date      close  close_previous  return_close\n",
       " 0    2015-07-02  3463.2500       3496.2800       -0.0094\n",
       " 1    2015-07-03  3441.7600       3463.2500       -0.0062\n",
       " 2    2015-07-06  3365.2000       3441.7600       -0.0222\n",
       " 3    2015-07-07  3294.1899       3365.2000       -0.0211\n",
       " 4    2015-07-08  3327.5000       3294.1899        0.0101\n",
       " ...         ...        ...             ...           ...\n",
       " 1248 2020-06-23  3298.8301       3241.6899        0.0176\n",
       " 1249 2020-06-24  3196.1201       3298.8301       -0.0311\n",
       " 1250 2020-06-25  3218.9099       3196.1201        0.0071\n",
       " 1251 2020-06-26  3204.1699       3218.9099       -0.0046\n",
       " 1252 2020-06-29  3232.0200       3204.1699        0.0087\n",
       " \n",
       " [1253 rows x 4 columns])"
      ]
     },
     "execution_count": 67,
     "metadata": {},
     "output_type": "execute_result"
    }
   ],
   "source": [
    "load_timeseries('^STOXX50E')"
   ]
  },
  {
   "cell_type": "markdown",
   "metadata": {},
   "source": [
    "### Ejemplo de CAPM"
   ]
  },
  {
   "cell_type": "code",
   "execution_count": 106,
   "metadata": {},
   "outputs": [
    {
     "data": {
      "image/png": "[encoded data removed]",
      "text/plain": [
       "<Figure size 432x288 with 1 Axes>"
      ]
     },
     "metadata": {
      "needs_background": "light"
     },
     "output_type": "display_data"
    }
   ],
   "source": [
    "ric = 'SAN.MC' # MT.AS SAN.MC BBVA.MC REP.MC VWS.CO EQNR.OL MXNUSD=X ^VIX GBPUSD=X CHFUSD=X\n",
    "benchmark = '^STOXX50E' # ^STOXX50E ^STOXX ^S&P500 ^NASDAQ ^FCHI ^GDAXI EURUSD=X\n",
    "\n",
    "capm = capm_manager(benchmark, ric)\n",
    "capm.load_timeseries()\n",
    "capm.compute()\n",
    "capm.scatterplot()\n",
    "# capm.plot_normalised()\n",
    "# capm.plot_dual_axes()\n",
    "#print(capm)\n"
   ]
  },
  {
   "cell_type": "code",
   "execution_count": 98,
   "metadata": {},
   "outputs": [
    {
     "data": {
      "image/png": "[encoded data removed]",
      "text/plain": [
       "<Figure size 864x360 with 1 Axes>"
      ]
     },
     "metadata": {
      "needs_background": "light"
     },
     "output_type": "display_data"
    }
   ],
   "source": [
    "capm.plot_normalised()"
   ]
  },
  {
   "cell_type": "code",
   "execution_count": 99,
   "metadata": {},
   "outputs": [
    {
     "data": {
      "image/png": "[encoded data removed]",
      "text/plain": [
       "<Figure size 864x360 with 2 Axes>"
      ]
     },
     "metadata": {
      "needs_background": "light"
     },
     "output_type": "display_data"
    }
   ],
   "source": [
    "capm.plot_dual_axes()"
   ]
  },
  {
   "cell_type": "code",
   "execution_count": 90,
   "metadata": {},
   "outputs": [
    {
     "name": "stdout",
     "output_type": "stream",
     "text": [
      "------\n",
      "Regresión Lineal | ric SAN.MC | benchmark ^STOXX50E\n",
      "alpha (intercept) -0.0006 | beta (slope) 1.3739\n",
      "p-value 0.0 | Hipótesis nula  False\n",
      "r-value (correlación) 0.8089 | r-squared 0.6543\n"
     ]
    },
    {
     "data": {
      "text/plain": [
       "1.3739"
      ]
     },
     "execution_count": 90,
     "metadata": {},
     "output_type": "execute_result"
    }
   ],
   "source": [
    "compute_beta(benchmark, ric, bool_print=True)"
   ]
  },
  {
   "cell_type": "code",
   "execution_count": null,
   "metadata": {},
   "outputs": [],
   "source": []
  },
  {
   "cell_type": "code",
   "execution_count": 91,
   "metadata": {},
   "outputs": [],
   "source": [
    "x,y, t = synchronise_timeseries(benchmark, ric)"
   ]
  },
  {
   "cell_type": "code",
   "execution_count": 95,
   "metadata": {},
   "outputs": [
    {
     "name": "stdout",
     "output_type": "stream",
     "text": [
      "Regresión Lineal | ric SAN.MC | benchmark ^STOXX50E\n",
      "alpha (intercept) None | beta (slope) None\n",
      "p-value None | Hipótesis nula  False\n",
      "r-value (correlación) None | r-squared None\n"
     ]
    }
   ],
   "source": [
    "capm_p = capm_manager(benchmark, ric)\n",
    "print(capm_p)"
   ]
  },
  {
   "cell_type": "code",
   "execution_count": 70,
   "metadata": {},
   "outputs": [],
   "source": [
    "capm.load_timeseries()"
   ]
  },
  {
   "cell_type": "markdown",
   "metadata": {},
   "source": [
    "### Ejemplo de cobertura de portafolios"
   ]
  },
  {
   "cell_type": "code",
   "execution_count": 10,
   "metadata": {},
   "outputs": [
    {
     "name": "stdout",
     "output_type": "stream",
     "text": [
      "-----\n",
      "inputs:\n",
      "notional 10\n",
      "-----\n",
      "Detalles del Portfolio :\n",
      "Securities:\n",
      "['SAN.MC', 'BBVA.MC', 'SOGN.PA', 'BNPP.PA', 'INGA.AS', 'KBC.BR', 'CRDI.MI', 'ISP.MI', 'DBKGn.DE', 'CBKG.DE']\n",
      "Rendimientos (anualizados):\n",
      "[[-0.146]\n",
      " [-0.153]\n",
      " [-0.13 ]\n",
      " [-0.034]\n",
      " [-0.115]\n",
      " [ 0.022]\n",
      " [-0.157]\n",
      " [-0.067]\n",
      " [-0.126]\n",
      " [-0.125]]\n",
      "Volatilidades (anualizadas):\n",
      "[[0.346]\n",
      " [0.338]\n",
      " [0.393]\n",
      " [0.329]\n",
      " [0.348]\n",
      " [0.331]\n",
      " [0.461]\n",
      " [0.362]\n",
      " [0.429]\n",
      " [0.426]]\n",
      "Matriz de Varianzas-Covarianzas (anualizada):\n",
      "[[0.12  0.104 0.112 0.095 0.098 0.08  0.118 0.097 0.112 0.113]\n",
      " [0.104 0.114 0.106 0.092 0.093 0.076 0.112 0.09  0.106 0.107]\n",
      " [0.112 0.106 0.154 0.116 0.112 0.095 0.134 0.11  0.129 0.13 ]\n",
      " [0.095 0.092 0.116 0.108 0.096 0.082 0.113 0.092 0.109 0.111]\n",
      " [0.098 0.093 0.112 0.096 0.121 0.088 0.113 0.095 0.111 0.114]\n",
      " [0.08  0.076 0.095 0.082 0.088 0.11  0.1   0.084 0.093 0.097]\n",
      " [0.118 0.112 0.134 0.113 0.113 0.1   0.212 0.137 0.14  0.139]\n",
      " [0.097 0.09  0.11  0.092 0.095 0.084 0.137 0.131 0.108 0.11 ]\n",
      " [0.112 0.106 0.129 0.109 0.111 0.093 0.14  0.108 0.184 0.148]\n",
      " [0.113 0.107 0.13  0.111 0.114 0.097 0.139 0.11  0.148 0.181]]\n",
      "Matriz de Correlaciones:\n",
      "[[1.    0.887 0.82  0.835 0.813 0.699 0.738 0.767 0.749 0.761]\n",
      " [0.887 1.    0.801 0.823 0.79  0.681 0.716 0.736 0.73  0.743]\n",
      " [0.82  0.801 1.    0.9   0.819 0.73  0.736 0.769 0.762 0.775]\n",
      " [0.835 0.823 0.9   1.    0.842 0.747 0.741 0.771 0.768 0.786]\n",
      " [0.813 0.79  0.819 0.842 1.    0.766 0.702 0.748 0.743 0.767]\n",
      " [0.699 0.681 0.73  0.747 0.766 1.    0.649 0.696 0.653 0.685]\n",
      " [0.738 0.716 0.736 0.741 0.702 0.649 1.    0.819 0.706 0.705]\n",
      " [0.767 0.736 0.769 0.771 0.748 0.696 0.819 1.    0.694 0.708]\n",
      " [0.749 0.73  0.762 0.768 0.743 0.653 0.706 0.694 1.    0.808]\n",
      " [0.761 0.743 0.775 0.786 0.767 0.685 0.705 0.708 0.808 1.   ]]\n"
     ]
    },
    {
     "data": {
      "image/png": "[encoded data removed]",
      "text/plain": [
       "<Figure size 432x288 with 1 Axes>"
      ]
     },
     "metadata": {
      "needs_background": "light"
     },
     "output_type": "display_data"
    }
   ],
   "source": [
    "notional = 10 # mnUSD\n",
    "print('-----')\n",
    "print('inputs:')\n",
    "print('notional ' + str(notional))\n",
    "\n",
    "# rics = ['SAN.MC',\\\n",
    "#         'BBVA.MC',\\\n",
    "#         'SOGN.PA',\\\n",
    "#         'BNPP.PA',\\\n",
    "#         'INGA.AS',\\\n",
    "#         'KBC.BR']\n",
    "# rics = ['MXNUSD=X',\\\n",
    "#         'EURUSD=X',\\\n",
    "#         'GBPUSD=X',\\\n",
    "#         'CHFUSD=X']\n",
    "rics = ['SAN.MC',\\\n",
    "         'BBVA.MC',\\\n",
    "         'SOGN.PA',\\\n",
    "         'BNPP.PA',\\\n",
    "         'INGA.AS',\\\n",
    "         'KBC.BR',\\\n",
    "         'CRDI.MI',\\\n",
    "         'ISP.MI',\\\n",
    "         'DBKGn.DE',\\\n",
    "         'CBKG.DE']\n",
    "#rics = ['SGREN.MC',\\\n",
    "#        'VWS.CO',\\\n",
    "#        'TOTF.PA',\\\n",
    "#        'REP.MC',\\\n",
    "#        'BP.L',\\\n",
    "#        'RDSa.AS',\\\n",
    "#        'RDSa.L']\n",
    "#rics = ['SGREN.MC',\\\n",
    "#         'VWS.CO']\n",
    "#rics = ['TOTF.PA',\\\n",
    "#         'REP.MC',\\\n",
    "#         'BP.L',\\\n",
    "#         'RDSa.AS',\\\n",
    "#         'RDSa.L']\n",
    "#rics = ['AAL.L',\\\n",
    "#         'ANTO.L',\\\n",
    "#         'GLEN.L',\\\n",
    "#         'MT.AS',\\\n",
    "#         'RIO.L']\n",
    "#rics = ['^S&P500',\\\n",
    "#         '^VIX']\n",
    "\n",
    "\n",
    "\n",
    "# calculamos la matriz de covarianza\n",
    "port_mgr = portfolio_manager(rics)\n",
    "mat_cov = port_mgr.compute_covariance_matrix(bool_print=True)\n",
    "\n",
    "# calculamos vectores de rendimientos y volatilidades para los portafolios de Markowitz\n",
    "min_returns = np.min(port_mgr.returns)\n",
    "max_returns = np.max(port_mgr.returns)\n",
    "returns = min_returns + np.linspace(0.1,0.9,100) * (max_returns-min_returns)\n",
    "volatilities = np.zeros([len(returns),1])\n",
    "counter = 0\n",
    "for target_return in returns:\n",
    "    port_markowitz = port_mgr.compute_portfolio('Markowitz', notional, target_return)\n",
    "    volatilities[counter] = port_markowitz.volatility_annual\n",
    "    counter += 1\n",
    "\n",
    "# calculamos otros portafolios\n",
    "label1 = 'Markowitz-Avg'# si no ponemos el hiperparametro extra, calcula el promedio\n",
    "port1 = port_mgr.compute_portfolio('Markowitz', notional)\n",
    "# label1 = 'min-variance'\n",
    "# port1 = port_mgr.compute_portfolio(label1, notional)\n",
    "x1 = port1.volatility_annual\n",
    "y1 = port1.return_annual\n",
    "\n",
    "label2 = 'Long-Only'\n",
    "port2 = port_mgr.compute_portfolio(label2, notional)\n",
    "x2 = port2.volatility_annual\n",
    "y2 = port2.return_annual\n",
    "#\n",
    "label3 = 'Equi-Ponderado'\n",
    "port3 = port_mgr.compute_portfolio(label3, notional)\n",
    "x3 = port3.volatility_annual\n",
    "y3 = port3.return_annual\n",
    "#\n",
    "# label4 = 'Markowitz-Target' # portfolio Markowitz con rendimiento objetivo\n",
    "# port = port_mgr.compute_portfolio('markowitz', notional, target_return=0.10)\n",
    "label4 = 'PCA' \n",
    "port4 = port_mgr.compute_portfolio(label4, notional)\n",
    "x4 = port4.volatility_annual\n",
    "y4 = port4.return_annual\n",
    "\n",
    "label5 = 'Varianza-Min'\n",
    "port5 = port_mgr.compute_portfolio(label5, notional)\n",
    "x5 = port5.volatility_annual\n",
    "y5 = port5.return_annual\n",
    "\n",
    "label6 = 'Markowitz-Promedio' # si no ponemos el hiperparametro extra, calcula el promedio\n",
    "port6 = port_mgr.compute_portfolio('Markowitz', notional)\n",
    "# label1 = 'min-variance'\n",
    "# port1 = port_mgr.compute_portfolio(label1, notional)\n",
    "x6 = port6.volatility_annual\n",
    "y6 = port6.return_annual\n",
    "    \n",
    "# plot Frontera\n",
    "plt.figure()\n",
    "plt.title('Frontera Eficiente para un portafolio incluyendo ' + rics[0])\n",
    "plt.scatter(volatilities,returns)\n",
    "#plt.plot(x1, y1, \"^k\", label=label1, markersize=12) # black triangle\n",
    "plt.plot(x2, y2, \"sm\", label=label2, markersize=12) # magenta square\n",
    "plt.plot(x3, y3, \"db\", label=label3, markersize=12) # blue diamond\n",
    "plt.plot(x4, y4, \"*g\", label=label4, markersize=12) # green star\n",
    "plt.plot(x5, y5, \"hr\", label=label5, markersize=12) # red hexagon\n",
    "plt.plot(x6, y6, \"py\", label=label6, markersize=12) # yelllow pentagon\n",
    "\n",
    "plt.ylabel('Rendimiento del portfolio')\n",
    "plt.xlabel('Volatilidad del portfolio')\n",
    "plt.grid()\n",
    "plt.legend(loc=\"best\")\n",
    "plt.show()"
   ]
  },
  {
   "cell_type": "code",
   "execution_count": 11,
   "metadata": {},
   "outputs": [
    {
     "data": {
      "text/plain": [
       "array([[0.12 , 0.104, 0.112, 0.095, 0.098, 0.08 , 0.118, 0.097, 0.112,\n",
       "        0.113],\n",
       "       [0.104, 0.114, 0.106, 0.092, 0.093, 0.076, 0.112, 0.09 , 0.106,\n",
       "        0.107],\n",
       "       [0.112, 0.106, 0.154, 0.116, 0.112, 0.095, 0.134, 0.11 , 0.129,\n",
       "        0.13 ],\n",
       "       [0.095, 0.092, 0.116, 0.108, 0.096, 0.082, 0.113, 0.092, 0.109,\n",
       "        0.111],\n",
       "       [0.098, 0.093, 0.112, 0.096, 0.121, 0.088, 0.113, 0.095, 0.111,\n",
       "        0.114],\n",
       "       [0.08 , 0.076, 0.095, 0.082, 0.088, 0.11 , 0.1  , 0.084, 0.093,\n",
       "        0.097],\n",
       "       [0.118, 0.112, 0.134, 0.113, 0.113, 0.1  , 0.212, 0.137, 0.14 ,\n",
       "        0.139],\n",
       "       [0.097, 0.09 , 0.11 , 0.092, 0.095, 0.084, 0.137, 0.131, 0.108,\n",
       "        0.11 ],\n",
       "       [0.112, 0.106, 0.129, 0.109, 0.111, 0.093, 0.14 , 0.108, 0.184,\n",
       "        0.148],\n",
       "       [0.113, 0.107, 0.13 , 0.111, 0.114, 0.097, 0.139, 0.11 , 0.148,\n",
       "        0.181]])"
      ]
     },
     "execution_count": 11,
     "metadata": {},
     "output_type": "execute_result"
    }
   ],
   "source": [
    "port_mgr.compute_covariance_matrix(bool_print=False)\n",
    "mat_cov = port_mgr.covariance_matrix\n",
    "mat_cov"
   ]
  },
  {
   "cell_type": "code",
   "execution_count": 12,
   "metadata": {},
   "outputs": [
    {
     "name": "stdout",
     "output_type": "stream",
     "text": [
      "[1.21150320e+00 4.50335000e+00 0.00000000e+00 0.00000000e+00\n",
      " 1.42743781e+00 2.14060526e+00 3.68628739e-17 7.17103719e-01\n",
      " 0.00000000e+00 1.10588622e-16] None 10 10.0 -1.0309999999912984 -0.10309999999912985 -0.10310000000000001 0.30976802427487343 -0.33282970455221617\n"
     ]
    }
   ],
   "source": [
    "print(port1.weights,port1.variance_explained,port1.notional, port1.delta, port1.pnl_annual, \n",
    "      port1.return_annual, port1.target_return, port1.volatility_annual, port1.sharpe_annual)\n",
    "#"
   ]
  },
  {
   "cell_type": "code",
   "execution_count": 13,
   "metadata": {},
   "outputs": [
    {
     "data": {
      "text/plain": [
       "-0.157"
      ]
     },
     "execution_count": 13,
     "metadata": {},
     "output_type": "execute_result"
    }
   ],
   "source": [
    "min_returns"
   ]
  },
  {
   "cell_type": "code",
   "execution_count": 14,
   "metadata": {},
   "outputs": [
    {
     "data": {
      "text/plain": [
       "-0.157"
      ]
     },
     "execution_count": 14,
     "metadata": {},
     "output_type": "execute_result"
    }
   ],
   "source": [
    "(min_returns)"
   ]
  },
  {
   "cell_type": "code",
   "execution_count": 15,
   "metadata": {},
   "outputs": [
    {
     "data": {
      "text/plain": [
       "array([-0.1391    , -0.13765354, -0.13620707, -0.13476061, -0.13331414,\n",
       "       -0.13186768, -0.13042121, -0.12897475, -0.12752828, -0.12608182,\n",
       "       -0.12463535, -0.12318889, -0.12174242, -0.12029596, -0.11884949,\n",
       "       -0.11740303, -0.11595657, -0.1145101 , -0.11306364, -0.11161717,\n",
       "       -0.11017071, -0.10872424, -0.10727778, -0.10583131, -0.10438485,\n",
       "       -0.10293838, -0.10149192, -0.10004545, -0.09859899, -0.09715253,\n",
       "       -0.09570606, -0.0942596 , -0.09281313, -0.09136667, -0.0899202 ,\n",
       "       -0.08847374, -0.08702727, -0.08558081, -0.08413434, -0.08268788,\n",
       "       -0.08124141, -0.07979495, -0.07834848, -0.07690202, -0.07545556,\n",
       "       -0.07400909, -0.07256263, -0.07111616, -0.0696697 , -0.06822323,\n",
       "       -0.06677677, -0.0653303 , -0.06388384, -0.06243737, -0.06099091,\n",
       "       -0.05954444, -0.05809798, -0.05665152, -0.05520505, -0.05375859,\n",
       "       -0.05231212, -0.05086566, -0.04941919, -0.04797273, -0.04652626,\n",
       "       -0.0450798 , -0.04363333, -0.04218687, -0.0407404 , -0.03929394,\n",
       "       -0.03784747, -0.03640101, -0.03495455, -0.03350808, -0.03206162,\n",
       "       -0.03061515, -0.02916869, -0.02772222, -0.02627576, -0.02482929,\n",
       "       -0.02338283, -0.02193636, -0.0204899 , -0.01904343, -0.01759697,\n",
       "       -0.01615051, -0.01470404, -0.01325758, -0.01181111, -0.01036465,\n",
       "       -0.00891818, -0.00747172, -0.00602525, -0.00457879, -0.00313232,\n",
       "       -0.00168586, -0.00023939,  0.00120707,  0.00265354,  0.0041    ])"
      ]
     },
     "execution_count": 15,
     "metadata": {},
     "output_type": "execute_result"
    }
   ],
   "source": [
    "returns = min_returns + np.linspace(0.1,0.9,100) * (max_returns-min_returns)\n",
    "min_returns + np.linspace(0.1,0.9,100) *(max_returns-min_returns)"
   ]
  },
  {
   "cell_type": "code",
   "execution_count": 18,
   "metadata": {},
   "outputs": [],
   "source": [
    "import streamlit as st\n",
    "import pandas as pd\n",
    "import numpy as np\n",
    "import scipy.stats as stats\n",
    "import matplotlib.pyplot as plt\n",
    "import altair as alt\n",
    "import plotly.figure_factory as ff"
   ]
  },
  {
   "cell_type": "code",
   "execution_count": 17,
   "metadata": {},
   "outputs": [
    {
     "name": "stdout",
     "output_type": "stream",
     "text": [
      "Collecting plotly\n",
      "\u001b[?25l  Downloading https://files.pythonhosted.org/packages/1f/f6/bd3c17c8003b6641df1228e80e1acac97ed8402635e46c2571f8e1ef63af/plotly-4.14.3-py2.py3-none-any.whl (13.2MB)\n",
      "\u001b[K    100% |████████████████████████████████| 13.2MB 1.7MB/s ta 0:00:01\n",
      "\u001b[?25hCollecting retrying>=1.3.3 (from plotly)\n",
      "  Downloading https://files.pythonhosted.org/packages/44/ef/beae4b4ef80902f22e3af073397f079c96969c69b2c7d52a57ea9ae61c9d/retrying-1.3.3.tar.gz\n",
      "Requirement already satisfied: six in /home/joiortega1/anaconda3/lib/python3.7/site-packages (from plotly) (1.15.0)\n",
      "Building wheels for collected packages: retrying\n",
      "  Building wheel for retrying (setup.py) ... \u001b[?25ldone\n",
      "\u001b[?25h  Stored in directory: /home/joiortega1/.cache/pip/wheels/d7/a9/33/acc7b709e2a35caa7d4cae442f6fe6fbf2c43f80823d46460c\n",
      "Successfully built retrying\n",
      "Installing collected packages: retrying, plotly\n",
      "Successfully installed plotly-4.14.3 retrying-1.3.3\n"
     ]
    }
   ],
   "source": [
    "!pip install plotly"
   ]
  },
  {
   "cell_type": "code",
   "execution_count": null,
   "metadata": {},
   "outputs": [],
   "source": []
  }
 ],
 "metadata": {
  "kernelspec": {
   "display_name": "Python 3",
   "language": "python",
   "name": "python3"
  },
  "language_info": {
   "codemirror_mode": {
    "name": "ipython",
    "version": 3
   },
   "file_extension": ".py",
   "mimetype": "text/x-python",
   "name": "python",
   "nbconvert_exporter": "python",
   "pygments_lexer": "ipython3",
   "version": "3.7.3"
  }
 },
 "nbformat": 4,
 "nbformat_minor": 2
}
